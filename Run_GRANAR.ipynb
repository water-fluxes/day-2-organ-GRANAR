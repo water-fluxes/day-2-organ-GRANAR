{
  "metadata": {
    "language_info": {
      "codemirror_mode": {
        "name": "python",
        "version": 3
      },
      "file_extension": ".py",
      "mimetype": "text/x-python",
      "name": "python",
      "nbconvert_exporter": "python",
      "pygments_lexer": "ipython3",
      "version": "3.8"
    },
    "kernelspec": {
      "name": "python",
      "display_name": "Python (Pyodide)",
      "language": "python"
    }
  },
  "nbformat_minor": 4,
  "nbformat": 4,
  "cells": [
    {
      "cell_type": "code",
      "source": "## Estimation of hydraulic propeties using moddeling tools\n\n### GRANAR:\nUpon a small set of anatomical features the GRANAR model is able to reconstruct a generic root cell network for mono and dicotyledon.\n\nChange kernel to R to launch the following script.",
      "metadata": {},
      "execution_count": null,
      "outputs": []
    },
    {
      "cell_type": "code",
      "source": "# Loading R library\nlibrary(tidyverse)\nlibrary(plyr)\nlibrary(deldir)\nlibrary(sp)\nlibrary(xml2)\nlibrary(viridis)\n\nsource(\"./GRANAR/R/granar.R\")",
      "metadata": {},
      "execution_count": null,
      "outputs": []
    },
    {
      "cell_type": "code",
      "source": "# Load one parameter file for GRANAR\nparams <- read_param_xml(\"GRANAR/model_params/Zea_mays_2_Heymans_2019.xml\")\n\n # # # # # # # # # # # # # # #\n#  To change paramter value   #\n # # # # # # # # # # # # # # #\n    \n# Xylem size (diameter)\nparams$value[params$type == \"max_size\" & params$name == \"xylem\"] <- 0.026\n\n# aerenchyma proportion\nparams$value[params$type == \"proportion\" & params$name == \"aerenchyma\"] <- 0.2\n# number of lacuna\nparams$value[params$type == \"n_files\" & params$name == \"aerenchyma\"] <- 15\n\n# Generate the anatomy\nsim <- create_anatomy(parameters = params, verbatim=F, paraview = F)\n# sim is a list\n# sim$nodes is a data frame with most of the information\n# sim$output is a data frame with summarize anatomical features",
      "metadata": {},
      "execution_count": null,
      "outputs": []
    },
    {
      "cell_type": "code",
      "source": "# To visualize the anatomy and the scenario that are going to be tested.\n# you can use the plot_anatomy function.\nplot_anatomy(sim, col = \"segment\", apo_bar = 1)\nplot_anatomy(sim, col = \"segment\", apo_bar = 2)\nplot_anatomy(sim, col = \"segment\", apo_bar = 3)\n\n# To visualize cell type:\nplot_anatomy(sim) # default type",
      "metadata": {},
      "execution_count": null,
      "outputs": []
    },
    {
      "cell_type": "code",
      "source": "# write geometry\nwrite_anatomy_xml(sim, \"./MECHA/cellsetdata/current_root.xml\")\n# give explicit location of root lacuna in geometry\naer_in_geom_xml(sim, path = \"./MECHA/Projects/granar/in/Maize_Geometry.xml\")",
      "metadata": {},
      "execution_count": null,
      "outputs": []
    },
    {
      "cell_type": "code",
      "source": "# hydraulic conductivity of standard walls\nkw = 2.4E-4 # [cm^2/hPa/d] Zhu and Steudle (1991)\n\n# Cell membrane permeability, with separate contribution of the biphospholipid layer (km) and AQP (kAQP)\nkm = 3.0E-5 # [cm/hPa/d]  after removal of kAQP and kpl from Elhert et al. (2009) and Bret-Hart and Silk (1994)\nkAQP = 4.3E-4 # [cm/hPa/d] uniformly distributed on each cell layer\n\n# Individual plasmodesma conductance\nkpl = 5.3E-12 #  [cm^3/hPa/d/plasmodesmata] Geometrical average from Bret-Hart and Silk (1994)\n\n# change cell hydraulic properties\nmicrohydro(path = \"MECHA/Projects/granar/in/Maize_Hydraulics.xml\",\n           kw, km, kAQP, kpl)",
      "metadata": {},
      "execution_count": null,
      "outputs": []
    }
  ]
}